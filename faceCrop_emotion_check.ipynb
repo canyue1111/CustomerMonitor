{
  "nbformat": 4,
  "nbformat_minor": 0,
  "metadata": {
    "colab": {
      "name": "faceCrop_emotion_check.ipynb",
      "provenance": [],
      "collapsed_sections": [],
      "authorship_tag": "ABX9TyNO3xl9ykLBHEMpTWjyFNnz",
      "include_colab_link": true
    },
    "kernelspec": {
      "name": "python3",
      "display_name": "Python 3"
    }
  },
  "cells": [
    {
      "cell_type": "markdown",
      "metadata": {
        "id": "view-in-github",
        "colab_type": "text"
      },
      "source": [
        "<a href=\"https://colab.research.google.com/github/canyue1111/CustomerMonitor/blob/main/faceCrop_emotion_check.ipynb\" target=\"_parent\"><img src=\"https://colab.research.google.com/assets/colab-badge.svg\" alt=\"Open In Colab\"/></a>"
      ]
    },
    {
      "cell_type": "markdown",
      "metadata": {
        "id": "qEtdkl9IL8fv"
      },
      "source": [
        "HTML SUPPORT APP\n"
      ]
    },
    {
      "cell_type": "code",
      "metadata": {
        "colab": {
          "base_uri": "https://localhost:8080/"
        },
        "id": "Nm9iDi9v8We1",
        "outputId": "c44098ca-75df-4671-8ef3-0c9a64a4cd84"
      },
      "source": [
        "pip install anvil-uplink"
      ],
      "execution_count": 31,
      "outputs": [
        {
          "output_type": "stream",
          "text": [
            "Requirement already satisfied: anvil-uplink in /usr/local/lib/python3.7/dist-packages (0.3.36)\n",
            "Requirement already satisfied: ws4py in /usr/local/lib/python3.7/dist-packages (from anvil-uplink) (0.5.1)\n",
            "Requirement already satisfied: argparse in /usr/local/lib/python3.7/dist-packages (from anvil-uplink) (1.4.0)\n",
            "Requirement already satisfied: six in /usr/local/lib/python3.7/dist-packages (from anvil-uplink) (1.15.0)\n",
            "Requirement already satisfied: future in /usr/local/lib/python3.7/dist-packages (from anvil-uplink) (0.16.0)\n"
          ],
          "name": "stdout"
        }
      ]
    },
    {
      "cell_type": "markdown",
      "metadata": {
        "id": "CKkjbj7PMApf"
      },
      "source": [
        "WEBCAM CAPTURE FOR GOOGLE COLAB"
      ]
    },
    {
      "cell_type": "code",
      "metadata": {
        "id": "2GtyHRBSt4Lb"
      },
      "source": [
        "from IPython.display import display, Javascript\n",
        "from google.colab.output import eval_js\n",
        "from base64 import b64decode\n",
        "\n",
        "def take_photo(filename='photo.jpg', quality=0.8):\n",
        "  js = Javascript('''\n",
        "    async function takePhoto(quality) {\n",
        "      const div = document.createElement('div');\n",
        "      const capture = document.createElement('button');\n",
        "      capture.textContent = 'Capture';\n",
        "      div.appendChild(capture);\n",
        "\n",
        "      const video = document.createElement('video');\n",
        "      video.style.display = 'block';\n",
        "      const stream = await navigator.mediaDevices.getUserMedia({video: true});\n",
        "\n",
        "      document.body.appendChild(div);\n",
        "      div.appendChild(video);\n",
        "      video.srcObject = stream;\n",
        "      await video.play();\n",
        "\n",
        "      // Resize the output to fit the video element.\n",
        "      google.colab.output.setIframeHeight(document.documentElement.scrollHeight, true);\n",
        "\n",
        "      const canvas = document.createElement('canvas');\n",
        "      canvas.width = video.videoWidth;\n",
        "      canvas.height = video.videoHeight;\n",
        "      canvas.getContext('2d').drawImage(video, 0, 0);\n",
        "      stream.getVideoTracks()[0].stop();\n",
        "      div.remove();\n",
        "      return canvas.toDataURL('image/jpeg', quality);\n",
        "    }\n",
        "    ''')\n",
        "  display(js)\n",
        "  data = eval_js('takePhoto({})'.format(quality))\n",
        "  binary = b64decode(data.split(',')[1])\n",
        "  with open(filename, 'wb') as f:\n",
        "    f.write(binary)\n",
        "  return filename"
      ],
      "execution_count": 32,
      "outputs": []
    },
    {
      "cell_type": "markdown",
      "metadata": {
        "id": "O1zq9StWMDth"
      },
      "source": [
        "IMPORT LIB AND DEFINE GLOBAL VALUE\n",
        "\n",
        "ResNet-50 is a convolutional neural network that is 50 layers deep. You can load a pretrained version of the network trained on more than a million images from the ImageNet database [1]. The pretrained network can classify images into 1000 object categories, such as keyboard, mouse, pencil, and many animals."
      ]
    },
    {
      "cell_type": "code",
      "metadata": {
        "id": "BOCiXars3nBW"
      },
      "source": [
        "#LIB NEED\n",
        "import dlib\n",
        "from PIL import Image\n",
        "from skimage import io\n",
        "import matplotlib.pyplot as plt\n",
        "from keras.preprocessing.image import load_img\n",
        "from keras.preprocessing.image import img_to_array\n",
        "from keras.models import load_model\n",
        "import numpy as np\n",
        "from datetime import datetime\n",
        "import pandas as pd\n",
        "import time\n",
        "from scipy.stats import linregress\n",
        "import anvil.server\n",
        "\n",
        "#Having two dataframe store different kinds of data\n",
        "df = pd.DataFrame(columns = ['Customers ID', 'Time', 'Emotion','FileName'])\n",
        "da = pd.DataFrame(columns = ['Customers ID', 'Time', 'Emotion','FileName'])\n",
        "\n",
        "emotion_class = ['Angry','Disgust','Fear', 'Happy', 'Sad','Surprise','Neutral']\n"
      ],
      "execution_count": 47,
      "outputs": []
    },
    {
      "cell_type": "code",
      "metadata": {
        "id": "rqrv8uRB4kEO"
      },
      "source": [
        "#In this case we can use RestNet Model. also we can use transfer learning one\n",
        "#(0=Angry, 1=Disgust, 2=Fear, 3=Happy, 4=Sad, 5=Surprise, 6=Neutral)\n",
        " \n",
        "model = load_model('ResNet-50.h5')\n",
        "\n",
        "#load detector\n",
        "detector = dlib.get_frontal_face_detector()\n",
        "\n",
        "#begin with global value of cutsomer id 0\n",
        "CustomersID = 0\n",
        "CustomerStatus = 0 # 0 means no facedetected, 1 means yes"
      ],
      "execution_count": 34,
      "outputs": []
    },
    {
      "cell_type": "code",
      "metadata": {
        "id": "bVH2U1IBVVH2"
      },
      "source": [
        "#Function to load the cropped image\n",
        "def load_image(filename):\n",
        "    img = load_img(filename, grayscale=False, target_size=(197, 197))\n",
        "    #convert to array\n",
        "    img = img_to_array(img)\n",
        "    #reshape into a single sample with  channe 3\n",
        "    img = img.reshape(1, 197, 197, 3)\n",
        "    #prepare pixel data\n",
        "    img = img.astype('float32')\n",
        "    img = img / 255.0\n",
        "    return img\n"
      ],
      "execution_count": 35,
      "outputs": []
    },
    {
      "cell_type": "code",
      "metadata": {
        "id": "jG80tpmr4P-f"
      },
      "source": [
        "#crop the screenshot,image\n",
        "def detect_faces(image):\n",
        "    # Run detector and get bounding boxes of the faces on image.\n",
        "    detected_faces = detector(image, 1)\n",
        "    face_frames = [(x.left(), x.top(),\n",
        "                    x.right(), x.bottom()) for x in detected_faces]\n",
        "\n",
        "    #multi faces\n",
        "    return face_frames "
      ],
      "execution_count": 36,
      "outputs": []
    },
    {
      "cell_type": "code",
      "metadata": {
        "id": "EiSgpwVusrZK"
      },
      "source": [
        "def trans_da(n):\n",
        "  #Angry Disgust 1 Fear Sad 2 Neutral 3 Surprise 4 Happy 5\n",
        "  #negative emotion it is, lower number it will be\n",
        "  if n == 'Angry':\n",
        "    return 1\n",
        "  if n == 'Disgust':\n",
        "    return 1\n",
        "  if n == 'Fear':\n",
        "    return 2\n",
        "  if n == 'Happy':\n",
        "    return 5\n",
        "  if n == 'Sad':\n",
        "    return 2\n",
        "  if n == 'Surprise':\n",
        "    return 4\n",
        "  if n == 'Neutral':\n",
        "    return 4.2\n",
        "  else: return n\n",
        "\n"
      ],
      "execution_count": 37,
      "outputs": []
    },
    {
      "cell_type": "code",
      "metadata": {
        "id": "-hQoOqDBe0__"
      },
      "source": [
        "def check_Face_Exist(img_path):\n",
        "  max_score = 0.99\n",
        "  # Detect faces http://dlib.net/face_detector.py.html\n",
        "  img = dlib.load_rgb_image(img_path)\n",
        "  \n",
        "  #get the scores from detectors, determining whether they detect face or not\n",
        "  dets, scores, idx = detector.run(img, 1,-1)\n",
        "  for i, d in enumerate(dets):\n",
        "      if scores[i]> max_score:\n",
        "        max_score = scores[i]\n",
        "  \n",
        "  #personally setting, if score is over 1.0 which means there is face exist\n",
        "  if max_score > 1.0:\n",
        "    return True\n",
        "  else:\n",
        "    return False\n"
      ],
      "execution_count": 38,
      "outputs": []
    },
    {
      "cell_type": "code",
      "metadata": {
        "id": "jIaSuHkTCTtU"
      },
      "source": [
        "import anvil.media"
      ],
      "execution_count": 39,
      "outputs": []
    },
    {
      "cell_type": "code",
      "metadata": {
        "id": "8PUndjK9_QYN",
        "colab": {
          "base_uri": "https://localhost:8080/"
        },
        "outputId": "fa0ca278-68bb-4224-861d-72008e704bcc"
      },
      "source": [
        "#Connect the client website\n",
        "anvil.server.connect(\"E6U72W7FISS5UWOI3GLS4YOX-N2IDQ4SYIEBLIFFM\")\n",
        "\n",
        "@anvil.server.callable\n",
        "def trans_int_da():\n",
        "  return df.to_dict('records')\n",
        "\n",
        "#calculate customer emotion tendency, employee performance\n",
        "@anvil.server.callable\n",
        "def Customer_Performance(_id):\n",
        "  try:\n",
        "    id = int(_id)\n",
        "    if id in da[\"Customers ID\"].values:\n",
        "      temp = da[da[\"Customers ID\"] == id]\n",
        "      slope, intercept, r_value, p_value, std_err = linregress(temp.index, temp['Emotion'].astype(float))\n",
        "      a = slope*80 + temp.iloc[-1]['Emotion']*10 + std_err*10\n",
        "      title_temp = \"Customer ID \"+ str(id) + \" Performance is \"+ str(a)\n",
        "      return  title_temp\n",
        "    else:  \n",
        "      return \"That \"+ _id +\" Customers ID NOT EXIST\"\n",
        "  except:\n",
        "    return \"Not Valid\"\n",
        "\n",
        "@anvil.server.callable\n",
        "def lastThreeAngry():\n",
        "  #last 5 emotion average is lower than 2.3 and all of them has negative emotion\n",
        "  return (len(da.tail(5)[da['Emotion'] < 4]) == 5) & (da.tail(5)['Emotion'].mean()<2.3)\n",
        "\n",
        "@anvil.server.callable\n",
        "def Customer_coming():\n",
        "  #If there is customer exis, notify to employee\n",
        "  return CustomerStatus == 1\n",
        "\n",
        "@anvil.server.callable\n",
        "def make_data():\n",
        "  df.to_csv(\"df.csv\") \n",
        "  X_media = anvil.media.from_file('df.csv', 'csv', 'df')\n",
        "  return X_media\n",
        "\n",
        "#Customers shows surprise for the latest update\n",
        "@anvil.server.callable\n",
        "def lastThreeSurprise():\n",
        "  return (len(da.tail(5)[da['Emotion'] == 4]) >= 3) \n",
        "\n",
        "\n",
        "#Customers shows Fear and sad\n",
        "@anvil.server.callable\n",
        "def lastThreeFear():\n",
        "  return (len(da.tail(5)[da['Emotion'] == 2]) >= 3) \n",
        "\n",
        "#Customers shows Happy giving encourage\n",
        "@anvil.server.callable\n",
        "def lastThreeHappy():\n",
        "  return (len(da.tail(5)[da['Emotion'] == 5]) >= 3) \n"
      ],
      "execution_count": 46,
      "outputs": [
        {
          "output_type": "stream",
          "text": [
            "/usr/local/lib/python3.7/dist-packages/ipykernel_launcher.py:43: UserWarning: Boolean Series key will be reindexed to match DataFrame index.\n"
          ],
          "name": "stderr"
        }
      ]
    },
    {
      "cell_type": "code",
      "metadata": {
        "colab": {
          "base_uri": "https://localhost:8080/",
          "height": 1000
        },
        "id": "P_NRFaTKiJ99",
        "outputId": "a67e315e-09b2-47fd-8f54-f8933d214f39"
      },
      "source": [
        "#update= running or not\n",
        "update_ = True\n",
        "\n",
        "#temp cam shot\n",
        "img_path = 'photo.jpg'\n",
        "\n",
        "while update_:\n",
        "  #update every 2 seconds\n",
        "  time.sleep(2)\n",
        "  #take photo and save as photo.jpg\n",
        "  filename = take_photo()\n",
        "\n",
        "  if check_Face_Exist(img_path):\n",
        "    print(\"Face Detected\")\n",
        "    CustomerStatus = 1\n",
        "    image = io.imread(img_path)\n",
        "    detected_faces = detect_faces(image)\n",
        "\n",
        "  # Crop faces and plot\n",
        "    for n, face_rect in enumerate(detected_faces):\n",
        "      face = Image.fromarray(image).crop(face_rect)\n",
        "      #Get the time now\n",
        "      now = datetime.now()\n",
        "      today = now.strftime(\"%H:%M:%S\")\n",
        "      #file name setting\n",
        "      name = str(today) + '.png'\n",
        "      #save file\n",
        "      plt.savefig(name)\n",
        "\n",
        "      # emotion_class[np.argmax(model.predict(load_image(\"file/\" + name)))]\n",
        "      addition=pd.DataFrame( {'Customers ID': [CustomersID],\n",
        "                              'Time': [today],\n",
        "                              'Emotion':  [emotion_class[np.argmax(model.predict(load_image(name)))]],\n",
        "                              'FileName':[name]})\n",
        "      #add to df dataframe\n",
        "      df = df.append(addition, ignore_index=True)\n",
        "      #add to da dataframe, after transfering emotion 'string' to 'float'.\n",
        "      addition['Emotion'] = addition['Emotion'].apply(trans_da)\n",
        "      da = da.append(addition, ignore_index=True)\n",
        "\n",
        "    plt.subplot(1, len(detected_faces), n+1)\n",
        "    plt.axis('off')\n",
        "    plt.imshow(face)\n",
        "  \n",
        "  else:\n",
        "    print(\"NofaceDetected\")\n",
        "    if CustomerStatus == 1:\n",
        "      CustomerStatus = 0\n",
        "      CustomersID = CustomersID + 1\n",
        "\n"
      ],
      "execution_count": 48,
      "outputs": [
        {
          "output_type": "stream",
          "text": [
            "/usr/local/lib/python3.7/dist-packages/ipykernel_launcher.py:27: UserWarning: Boolean Series key will be reindexed to match DataFrame index.\n",
            "/usr/local/lib/python3.7/dist-packages/ipykernel_launcher.py:27: UserWarning: Boolean Series key will be reindexed to match DataFrame index.\n",
            "/usr/local/lib/python3.7/dist-packages/ipykernel_launcher.py:43: UserWarning: Boolean Series key will be reindexed to match DataFrame index.\n"
          ],
          "name": "stderr"
        },
        {
          "output_type": "display_data",
          "data": {
            "application/javascript": [
              "\n",
              "    async function takePhoto(quality) {\n",
              "      const div = document.createElement('div');\n",
              "      const capture = document.createElement('button');\n",
              "      capture.textContent = 'Capture';\n",
              "      div.appendChild(capture);\n",
              "\n",
              "      const video = document.createElement('video');\n",
              "      video.style.display = 'block';\n",
              "      const stream = await navigator.mediaDevices.getUserMedia({video: true});\n",
              "\n",
              "      document.body.appendChild(div);\n",
              "      div.appendChild(video);\n",
              "      video.srcObject = stream;\n",
              "      await video.play();\n",
              "\n",
              "      // Resize the output to fit the video element.\n",
              "      google.colab.output.setIframeHeight(document.documentElement.scrollHeight, true);\n",
              "\n",
              "      const canvas = document.createElement('canvas');\n",
              "      canvas.width = video.videoWidth;\n",
              "      canvas.height = video.videoHeight;\n",
              "      canvas.getContext('2d').drawImage(video, 0, 0);\n",
              "      stream.getVideoTracks()[0].stop();\n",
              "      div.remove();\n",
              "      return canvas.toDataURL('image/jpeg', quality);\n",
              "    }\n",
              "    "
            ],
            "text/plain": [
              "<IPython.core.display.Javascript object>"
            ]
          },
          "metadata": {
            "tags": []
          }
        },
        {
          "output_type": "stream",
          "text": [
            "/usr/local/lib/python3.7/dist-packages/ipykernel_launcher.py:49: UserWarning: Boolean Series key will be reindexed to match DataFrame index.\n",
            "/usr/local/lib/python3.7/dist-packages/ipykernel_launcher.py:43: UserWarning: Boolean Series key will be reindexed to match DataFrame index.\n",
            "/usr/local/lib/python3.7/dist-packages/ipykernel_launcher.py:54: UserWarning: Boolean Series key will be reindexed to match DataFrame index.\n",
            "/usr/local/lib/python3.7/dist-packages/ipykernel_launcher.py:49: UserWarning: Boolean Series key will be reindexed to match DataFrame index.\n",
            "/usr/local/lib/python3.7/dist-packages/ipykernel_launcher.py:54: UserWarning: Boolean Series key will be reindexed to match DataFrame index.\n"
          ],
          "name": "stderr"
        },
        {
          "output_type": "stream",
          "text": [
            "Face Detected\n"
          ],
          "name": "stdout"
        },
        {
          "output_type": "stream",
          "text": [
            "/usr/local/lib/python3.7/dist-packages/ipykernel_launcher.py:27: UserWarning: Boolean Series key will be reindexed to match DataFrame index.\n",
            "/usr/local/lib/python3.7/dist-packages/ipykernel_launcher.py:27: UserWarning: Boolean Series key will be reindexed to match DataFrame index.\n",
            "/usr/local/lib/python3.7/dist-packages/ipykernel_launcher.py:43: UserWarning: Boolean Series key will be reindexed to match DataFrame index.\n",
            "/usr/local/lib/python3.7/dist-packages/ipykernel_launcher.py:49: UserWarning: Boolean Series key will be reindexed to match DataFrame index.\n",
            "/usr/local/lib/python3.7/dist-packages/ipykernel_launcher.py:43: UserWarning: Boolean Series key will be reindexed to match DataFrame index.\n",
            "/usr/local/lib/python3.7/dist-packages/ipykernel_launcher.py:41: MatplotlibDeprecationWarning: Adding an axes using the same arguments as a previous axes currently reuses the earlier instance.  In a future version, a new instance will always be created and returned.  Meanwhile, this warning can be suppressed, and the future behavior ensured, by passing a unique label to each axes instance.\n",
            "/usr/local/lib/python3.7/dist-packages/ipykernel_launcher.py:54: UserWarning: Boolean Series key will be reindexed to match DataFrame index.\n",
            "/usr/local/lib/python3.7/dist-packages/ipykernel_launcher.py:49: UserWarning: Boolean Series key will be reindexed to match DataFrame index.\n",
            "/usr/local/lib/python3.7/dist-packages/ipykernel_launcher.py:54: UserWarning: Boolean Series key will be reindexed to match DataFrame index.\n",
            "/usr/local/lib/python3.7/dist-packages/ipykernel_launcher.py:27: UserWarning: Boolean Series key will be reindexed to match DataFrame index.\n",
            "/usr/local/lib/python3.7/dist-packages/ipykernel_launcher.py:27: UserWarning: Boolean Series key will be reindexed to match DataFrame index.\n",
            "/usr/local/lib/python3.7/dist-packages/ipykernel_launcher.py:43: UserWarning: Boolean Series key will be reindexed to match DataFrame index.\n",
            "/usr/local/lib/python3.7/dist-packages/ipykernel_launcher.py:49: UserWarning: Boolean Series key will be reindexed to match DataFrame index.\n",
            "/usr/local/lib/python3.7/dist-packages/ipykernel_launcher.py:43: UserWarning: Boolean Series key will be reindexed to match DataFrame index.\n"
          ],
          "name": "stderr"
        },
        {
          "output_type": "display_data",
          "data": {
            "application/javascript": [
              "\n",
              "    async function takePhoto(quality) {\n",
              "      const div = document.createElement('div');\n",
              "      const capture = document.createElement('button');\n",
              "      capture.textContent = 'Capture';\n",
              "      div.appendChild(capture);\n",
              "\n",
              "      const video = document.createElement('video');\n",
              "      video.style.display = 'block';\n",
              "      const stream = await navigator.mediaDevices.getUserMedia({video: true});\n",
              "\n",
              "      document.body.appendChild(div);\n",
              "      div.appendChild(video);\n",
              "      video.srcObject = stream;\n",
              "      await video.play();\n",
              "\n",
              "      // Resize the output to fit the video element.\n",
              "      google.colab.output.setIframeHeight(document.documentElement.scrollHeight, true);\n",
              "\n",
              "      const canvas = document.createElement('canvas');\n",
              "      canvas.width = video.videoWidth;\n",
              "      canvas.height = video.videoHeight;\n",
              "      canvas.getContext('2d').drawImage(video, 0, 0);\n",
              "      stream.getVideoTracks()[0].stop();\n",
              "      div.remove();\n",
              "      return canvas.toDataURL('image/jpeg', quality);\n",
              "    }\n",
              "    "
            ],
            "text/plain": [
              "<IPython.core.display.Javascript object>"
            ]
          },
          "metadata": {
            "tags": []
          }
        },
        {
          "output_type": "stream",
          "text": [
            "/usr/local/lib/python3.7/dist-packages/ipykernel_launcher.py:54: UserWarning: Boolean Series key will be reindexed to match DataFrame index.\n",
            "/usr/local/lib/python3.7/dist-packages/ipykernel_launcher.py:49: UserWarning: Boolean Series key will be reindexed to match DataFrame index.\n"
          ],
          "name": "stderr"
        },
        {
          "output_type": "error",
          "ename": "KeyboardInterrupt",
          "evalue": "ignored",
          "traceback": [
            "\u001b[0;31m---------------------------------------------------------------------------\u001b[0m",
            "\u001b[0;31mKeyboardInterrupt\u001b[0m                         Traceback (most recent call last)",
            "\u001b[0;32m<ipython-input-48-07bedc5dac29>\u001b[0m in \u001b[0;36m<module>\u001b[0;34m()\u001b[0m\n\u001b[1;32m      9\u001b[0m   \u001b[0mtime\u001b[0m\u001b[0;34m.\u001b[0m\u001b[0msleep\u001b[0m\u001b[0;34m(\u001b[0m\u001b[0;36m2\u001b[0m\u001b[0;34m)\u001b[0m\u001b[0;34m\u001b[0m\u001b[0;34m\u001b[0m\u001b[0m\n\u001b[1;32m     10\u001b[0m   \u001b[0;31m#take photo and save as photo.jpg\u001b[0m\u001b[0;34m\u001b[0m\u001b[0;34m\u001b[0m\u001b[0;34m\u001b[0m\u001b[0m\n\u001b[0;32m---> 11\u001b[0;31m   \u001b[0mfilename\u001b[0m \u001b[0;34m=\u001b[0m \u001b[0mtake_photo\u001b[0m\u001b[0;34m(\u001b[0m\u001b[0;34m)\u001b[0m\u001b[0;34m\u001b[0m\u001b[0;34m\u001b[0m\u001b[0m\n\u001b[0m\u001b[1;32m     12\u001b[0m \u001b[0;34m\u001b[0m\u001b[0m\n\u001b[1;32m     13\u001b[0m   \u001b[0;32mif\u001b[0m \u001b[0mcheck_Face_Exist\u001b[0m\u001b[0;34m(\u001b[0m\u001b[0mimg_path\u001b[0m\u001b[0;34m)\u001b[0m\u001b[0;34m:\u001b[0m\u001b[0;34m\u001b[0m\u001b[0;34m\u001b[0m\u001b[0m\n",
            "\u001b[0;32m<ipython-input-32-1cb48f61194b>\u001b[0m in \u001b[0;36mtake_photo\u001b[0;34m(filename, quality)\u001b[0m\n\u001b[1;32m     33\u001b[0m     ''')\n\u001b[1;32m     34\u001b[0m   \u001b[0mdisplay\u001b[0m\u001b[0;34m(\u001b[0m\u001b[0mjs\u001b[0m\u001b[0;34m)\u001b[0m\u001b[0;34m\u001b[0m\u001b[0;34m\u001b[0m\u001b[0m\n\u001b[0;32m---> 35\u001b[0;31m   \u001b[0mdata\u001b[0m \u001b[0;34m=\u001b[0m \u001b[0meval_js\u001b[0m\u001b[0;34m(\u001b[0m\u001b[0;34m'takePhoto({})'\u001b[0m\u001b[0;34m.\u001b[0m\u001b[0mformat\u001b[0m\u001b[0;34m(\u001b[0m\u001b[0mquality\u001b[0m\u001b[0;34m)\u001b[0m\u001b[0;34m)\u001b[0m\u001b[0;34m\u001b[0m\u001b[0;34m\u001b[0m\u001b[0m\n\u001b[0m\u001b[1;32m     36\u001b[0m   \u001b[0mbinary\u001b[0m \u001b[0;34m=\u001b[0m \u001b[0mb64decode\u001b[0m\u001b[0;34m(\u001b[0m\u001b[0mdata\u001b[0m\u001b[0;34m.\u001b[0m\u001b[0msplit\u001b[0m\u001b[0;34m(\u001b[0m\u001b[0;34m','\u001b[0m\u001b[0;34m)\u001b[0m\u001b[0;34m[\u001b[0m\u001b[0;36m1\u001b[0m\u001b[0;34m]\u001b[0m\u001b[0;34m)\u001b[0m\u001b[0;34m\u001b[0m\u001b[0;34m\u001b[0m\u001b[0m\n\u001b[1;32m     37\u001b[0m   \u001b[0;32mwith\u001b[0m \u001b[0mopen\u001b[0m\u001b[0;34m(\u001b[0m\u001b[0mfilename\u001b[0m\u001b[0;34m,\u001b[0m \u001b[0;34m'wb'\u001b[0m\u001b[0;34m)\u001b[0m \u001b[0;32mas\u001b[0m \u001b[0mf\u001b[0m\u001b[0;34m:\u001b[0m\u001b[0;34m\u001b[0m\u001b[0;34m\u001b[0m\u001b[0m\n",
            "\u001b[0;32m/usr/local/lib/python3.7/dist-packages/google/colab/output/_js.py\u001b[0m in \u001b[0;36meval_js\u001b[0;34m(script, ignore_result, timeout_sec)\u001b[0m\n\u001b[1;32m     38\u001b[0m   \u001b[0;32mif\u001b[0m \u001b[0mignore_result\u001b[0m\u001b[0;34m:\u001b[0m\u001b[0;34m\u001b[0m\u001b[0;34m\u001b[0m\u001b[0m\n\u001b[1;32m     39\u001b[0m     \u001b[0;32mreturn\u001b[0m\u001b[0;34m\u001b[0m\u001b[0;34m\u001b[0m\u001b[0m\n\u001b[0;32m---> 40\u001b[0;31m   \u001b[0;32mreturn\u001b[0m \u001b[0m_message\u001b[0m\u001b[0;34m.\u001b[0m\u001b[0mread_reply_from_input\u001b[0m\u001b[0;34m(\u001b[0m\u001b[0mrequest_id\u001b[0m\u001b[0;34m,\u001b[0m \u001b[0mtimeout_sec\u001b[0m\u001b[0;34m)\u001b[0m\u001b[0;34m\u001b[0m\u001b[0;34m\u001b[0m\u001b[0m\n\u001b[0m\u001b[1;32m     41\u001b[0m \u001b[0;34m\u001b[0m\u001b[0m\n\u001b[1;32m     42\u001b[0m \u001b[0;34m\u001b[0m\u001b[0m\n",
            "\u001b[0;32m/usr/local/lib/python3.7/dist-packages/google/colab/_message.py\u001b[0m in \u001b[0;36mread_reply_from_input\u001b[0;34m(message_id, timeout_sec)\u001b[0m\n\u001b[1;32m     99\u001b[0m     \u001b[0mreply\u001b[0m \u001b[0;34m=\u001b[0m \u001b[0m_read_next_input_message\u001b[0m\u001b[0;34m(\u001b[0m\u001b[0;34m)\u001b[0m\u001b[0;34m\u001b[0m\u001b[0;34m\u001b[0m\u001b[0m\n\u001b[1;32m    100\u001b[0m     \u001b[0;32mif\u001b[0m \u001b[0mreply\u001b[0m \u001b[0;34m==\u001b[0m \u001b[0m_NOT_READY\u001b[0m \u001b[0;32mor\u001b[0m \u001b[0;32mnot\u001b[0m \u001b[0misinstance\u001b[0m\u001b[0;34m(\u001b[0m\u001b[0mreply\u001b[0m\u001b[0;34m,\u001b[0m \u001b[0mdict\u001b[0m\u001b[0;34m)\u001b[0m\u001b[0;34m:\u001b[0m\u001b[0;34m\u001b[0m\u001b[0;34m\u001b[0m\u001b[0m\n\u001b[0;32m--> 101\u001b[0;31m       \u001b[0mtime\u001b[0m\u001b[0;34m.\u001b[0m\u001b[0msleep\u001b[0m\u001b[0;34m(\u001b[0m\u001b[0;36m0.025\u001b[0m\u001b[0;34m)\u001b[0m\u001b[0;34m\u001b[0m\u001b[0;34m\u001b[0m\u001b[0m\n\u001b[0m\u001b[1;32m    102\u001b[0m       \u001b[0;32mcontinue\u001b[0m\u001b[0;34m\u001b[0m\u001b[0;34m\u001b[0m\u001b[0m\n\u001b[1;32m    103\u001b[0m     if (reply.get('type') == 'colab_reply' and\n",
            "\u001b[0;31mKeyboardInterrupt\u001b[0m: "
          ]
        },
        {
          "output_type": "stream",
          "text": [
            "/usr/local/lib/python3.7/dist-packages/ipykernel_launcher.py:54: UserWarning: Boolean Series key will be reindexed to match DataFrame index.\n"
          ],
          "name": "stderr"
        },
        {
          "output_type": "display_data",
          "data": {
            "image/png": "[encoded data removed]",
            "text/plain": [
              "<Figure size 432x288 with 1 Axes>"
            ]
          },
          "metadata": {
            "tags": [],
            "needs_background": "light"
          }
        },
        {
          "output_type": "stream",
          "text": [
            "/usr/local/lib/python3.7/dist-packages/ipykernel_launcher.py:27: UserWarning: Boolean Series key will be reindexed to match DataFrame index.\n"
          ],
          "name": "stderr"
        }
      ]
    },
    {
      "cell_type": "code",
      "metadata": {
        "colab": {
          "base_uri": "https://localhost:8080/",
          "height": 197
        },
        "id": "3oKf3KolIkW5",
        "outputId": "69341043-ce82-41e6-bd92-28b5170d5c80"
      },
      "source": [
        "da.head()"
      ],
      "execution_count": 49,
      "outputs": [
        {
          "output_type": "execute_result",
          "data": {
            "text/html": [
              "<div>\n",
              "<style scoped>\n",
              "    .dataframe tbody tr th:only-of-type {\n",
              "        vertical-align: middle;\n",
              "    }\n",
              "\n",
              "    .dataframe tbody tr th {\n",
              "        vertical-align: top;\n",
              "    }\n",
              "\n",
              "    .dataframe thead th {\n",
              "        text-align: right;\n",
              "    }\n",
              "</style>\n",
              "<table border=\"1\" class=\"dataframe\">\n",
              "  <thead>\n",
              "    <tr style=\"text-align: right;\">\n",
              "      <th></th>\n",
              "      <th>Customers ID</th>\n",
              "      <th>Time</th>\n",
              "      <th>Emotion</th>\n",
              "      <th>FileName</th>\n",
              "    </tr>\n",
              "  </thead>\n",
              "  <tbody>\n",
              "    <tr>\n",
              "      <th>0</th>\n",
              "      <td>1</td>\n",
              "      <td>15:33:03</td>\n",
              "      <td>4.2</td>\n",
              "      <td>15:33:03.png</td>\n",
              "    </tr>\n",
              "    <tr>\n",
              "      <th>1</th>\n",
              "      <td>1</td>\n",
              "      <td>15:33:07</td>\n",
              "      <td>2.0</td>\n",
              "      <td>15:33:07.png</td>\n",
              "    </tr>\n",
              "    <tr>\n",
              "      <th>2</th>\n",
              "      <td>1</td>\n",
              "      <td>15:33:11</td>\n",
              "      <td>5.0</td>\n",
              "      <td>15:33:11.png</td>\n",
              "    </tr>\n",
              "    <tr>\n",
              "      <th>3</th>\n",
              "      <td>1</td>\n",
              "      <td>15:33:15</td>\n",
              "      <td>5.0</td>\n",
              "      <td>15:33:15.png</td>\n",
              "    </tr>\n",
              "    <tr>\n",
              "      <th>4</th>\n",
              "      <td>1</td>\n",
              "      <td>15:33:19</td>\n",
              "      <td>4.2</td>\n",
              "      <td>15:33:19.png</td>\n",
              "    </tr>\n",
              "  </tbody>\n",
              "</table>\n",
              "</div>"
            ],
            "text/plain": [
              "  Customers ID      Time  Emotion      FileName\n",
              "0            1  15:33:03      4.2  15:33:03.png\n",
              "1            1  15:33:07      2.0  15:33:07.png\n",
              "2            1  15:33:11      5.0  15:33:11.png\n",
              "3            1  15:33:15      5.0  15:33:15.png\n",
              "4            1  15:33:19      4.2  15:33:19.png"
            ]
          },
          "metadata": {
            "tags": []
          },
          "execution_count": 49
        }
      ]
    },
    {
      "cell_type": "code",
      "metadata": {
        "colab": {
          "base_uri": "https://localhost:8080/",
          "height": 215
        },
        "id": "1NIKpH8vLUI3",
        "outputId": "1dbb6086-04ef-40f1-9a8f-b3c8904db124"
      },
      "source": [
        "df.head()"
      ],
      "execution_count": 50,
      "outputs": [
        {
          "output_type": "stream",
          "text": [
            "/usr/local/lib/python3.7/dist-packages/ipykernel_launcher.py:54: UserWarning: Boolean Series key will be reindexed to match DataFrame index.\n"
          ],
          "name": "stderr"
        },
        {
          "output_type": "execute_result",
          "data": {
            "text/html": [
              "<div>\n",
              "<style scoped>\n",
              "    .dataframe tbody tr th:only-of-type {\n",
              "        vertical-align: middle;\n",
              "    }\n",
              "\n",
              "    .dataframe tbody tr th {\n",
              "        vertical-align: top;\n",
              "    }\n",
              "\n",
              "    .dataframe thead th {\n",
              "        text-align: right;\n",
              "    }\n",
              "</style>\n",
              "<table border=\"1\" class=\"dataframe\">\n",
              "  <thead>\n",
              "    <tr style=\"text-align: right;\">\n",
              "      <th></th>\n",
              "      <th>Customers ID</th>\n",
              "      <th>Time</th>\n",
              "      <th>Emotion</th>\n",
              "      <th>FileName</th>\n",
              "    </tr>\n",
              "  </thead>\n",
              "  <tbody>\n",
              "    <tr>\n",
              "      <th>0</th>\n",
              "      <td>1</td>\n",
              "      <td>15:33:03</td>\n",
              "      <td>Neutral</td>\n",
              "      <td>15:33:03.png</td>\n",
              "    </tr>\n",
              "    <tr>\n",
              "      <th>1</th>\n",
              "      <td>1</td>\n",
              "      <td>15:33:07</td>\n",
              "      <td>Fear</td>\n",
              "      <td>15:33:07.png</td>\n",
              "    </tr>\n",
              "    <tr>\n",
              "      <th>2</th>\n",
              "      <td>1</td>\n",
              "      <td>15:33:11</td>\n",
              "      <td>Happy</td>\n",
              "      <td>15:33:11.png</td>\n",
              "    </tr>\n",
              "    <tr>\n",
              "      <th>3</th>\n",
              "      <td>1</td>\n",
              "      <td>15:33:15</td>\n",
              "      <td>Happy</td>\n",
              "      <td>15:33:15.png</td>\n",
              "    </tr>\n",
              "    <tr>\n",
              "      <th>4</th>\n",
              "      <td>1</td>\n",
              "      <td>15:33:19</td>\n",
              "      <td>Neutral</td>\n",
              "      <td>15:33:19.png</td>\n",
              "    </tr>\n",
              "  </tbody>\n",
              "</table>\n",
              "</div>"
            ],
            "text/plain": [
              "  Customers ID      Time  Emotion      FileName\n",
              "0            1  15:33:03  Neutral  15:33:03.png\n",
              "1            1  15:33:07     Fear  15:33:07.png\n",
              "2            1  15:33:11    Happy  15:33:11.png\n",
              "3            1  15:33:15    Happy  15:33:15.png\n",
              "4            1  15:33:19  Neutral  15:33:19.png"
            ]
          },
          "metadata": {
            "tags": []
          },
          "execution_count": 50
        }
      ]
    },
    {
      "cell_type": "markdown",
      "metadata": {
        "id": "3xeoISc3w_9S"
      },
      "source": [
        "#EDA\n"
      ]
    },
    {
      "cell_type": "code",
      "metadata": {
        "id": "kfZ2kI9QxER9",
        "colab": {
          "base_uri": "https://localhost:8080/",
          "height": 1000
        },
        "outputId": "e1e32749-b4ea-496c-f856-e7ec842443e5"
      },
      "source": [
        "import seaborn as sns\n",
        "\n",
        "def Customer_Performance(_id,_dataframe):\n",
        "  #get the dataframe which cutsomer id is _id\n",
        "  temp = _dataframe[_dataframe[\"Customers ID\"] == _id]\n",
        "  \n",
        "  #swith emotion value to float\n",
        "  temp['Emotion'] = temp['Emotion'].astype(float).dropna()\n",
        "\n",
        "  slope, intercept, r_value, p_value, std_err = linregress(temp.index.astype(float), \n",
        "                                                           temp['Emotion'].astype(float))\n",
        "  \n",
        "  title_temp = \"Customer ID \"+ str(_id) + \" Performance is \"+ str(slope*80\n",
        "                                                                  + temp.iloc[-1]['Emotion']*10\n",
        "                                                                  + std_err*10)\n",
        "  sns.regplot(x=temp.index, \n",
        "              y='Emotion', \n",
        "              data=temp, \n",
        "              fit_reg=True).set_title(title_temp)\n",
        "\n",
        "  display(temp,\"slope is \" + str(slope))\n",
        "\n",
        "#if ask which kind of customers\n",
        "#if customer id is 1\n",
        "Customer_Performance(1,da)"
      ],
      "execution_count": 51,
      "outputs": [
        {
          "output_type": "stream",
          "text": [
            "/usr/local/lib/python3.7/dist-packages/ipykernel_launcher.py:54: UserWarning: Boolean Series key will be reindexed to match DataFrame index.\n"
          ],
          "name": "stderr"
        },
        {
          "output_type": "display_data",
          "data": {
            "text/html": [
              "<div>\n",
              "<style scoped>\n",
              "    .dataframe tbody tr th:only-of-type {\n",
              "        vertical-align: middle;\n",
              "    }\n",
              "\n",
              "    .dataframe tbody tr th {\n",
              "        vertical-align: top;\n",
              "    }\n",
              "\n",
              "    .dataframe thead th {\n",
              "        text-align: right;\n",
              "    }\n",
              "</style>\n",
              "<table border=\"1\" class=\"dataframe\">\n",
              "  <thead>\n",
              "    <tr style=\"text-align: right;\">\n",
              "      <th></th>\n",
              "      <th>Customers ID</th>\n",
              "      <th>Time</th>\n",
              "      <th>Emotion</th>\n",
              "      <th>FileName</th>\n",
              "    </tr>\n",
              "  </thead>\n",
              "  <tbody>\n",
              "    <tr>\n",
              "      <th>0</th>\n",
              "      <td>1</td>\n",
              "      <td>15:33:03</td>\n",
              "      <td>4.2</td>\n",
              "      <td>15:33:03.png</td>\n",
              "    </tr>\n",
              "    <tr>\n",
              "      <th>1</th>\n",
              "      <td>1</td>\n",
              "      <td>15:33:07</td>\n",
              "      <td>2.0</td>\n",
              "      <td>15:33:07.png</td>\n",
              "    </tr>\n",
              "    <tr>\n",
              "      <th>2</th>\n",
              "      <td>1</td>\n",
              "      <td>15:33:11</td>\n",
              "      <td>5.0</td>\n",
              "      <td>15:33:11.png</td>\n",
              "    </tr>\n",
              "    <tr>\n",
              "      <th>3</th>\n",
              "      <td>1</td>\n",
              "      <td>15:33:15</td>\n",
              "      <td>5.0</td>\n",
              "      <td>15:33:15.png</td>\n",
              "    </tr>\n",
              "    <tr>\n",
              "      <th>4</th>\n",
              "      <td>1</td>\n",
              "      <td>15:33:19</td>\n",
              "      <td>4.2</td>\n",
              "      <td>15:33:19.png</td>\n",
              "    </tr>\n",
              "    <tr>\n",
              "      <th>5</th>\n",
              "      <td>1</td>\n",
              "      <td>15:33:22</td>\n",
              "      <td>5.0</td>\n",
              "      <td>15:33:22.png</td>\n",
              "    </tr>\n",
              "    <tr>\n",
              "      <th>6</th>\n",
              "      <td>1</td>\n",
              "      <td>15:33:26</td>\n",
              "      <td>4.2</td>\n",
              "      <td>15:33:26.png</td>\n",
              "    </tr>\n",
              "    <tr>\n",
              "      <th>7</th>\n",
              "      <td>1</td>\n",
              "      <td>15:33:30</td>\n",
              "      <td>5.0</td>\n",
              "      <td>15:33:30.png</td>\n",
              "    </tr>\n",
              "    <tr>\n",
              "      <th>8</th>\n",
              "      <td>1</td>\n",
              "      <td>15:33:34</td>\n",
              "      <td>5.0</td>\n",
              "      <td>15:33:34.png</td>\n",
              "    </tr>\n",
              "    <tr>\n",
              "      <th>9</th>\n",
              "      <td>1</td>\n",
              "      <td>15:33:37</td>\n",
              "      <td>2.0</td>\n",
              "      <td>15:33:37.png</td>\n",
              "    </tr>\n",
              "    <tr>\n",
              "      <th>10</th>\n",
              "      <td>1</td>\n",
              "      <td>15:33:42</td>\n",
              "      <td>4.0</td>\n",
              "      <td>15:33:42.png</td>\n",
              "    </tr>\n",
              "    <tr>\n",
              "      <th>11</th>\n",
              "      <td>1</td>\n",
              "      <td>15:33:46</td>\n",
              "      <td>4.0</td>\n",
              "      <td>15:33:46.png</td>\n",
              "    </tr>\n",
              "    <tr>\n",
              "      <th>12</th>\n",
              "      <td>1</td>\n",
              "      <td>15:33:50</td>\n",
              "      <td>4.0</td>\n",
              "      <td>15:33:50.png</td>\n",
              "    </tr>\n",
              "    <tr>\n",
              "      <th>13</th>\n",
              "      <td>1</td>\n",
              "      <td>15:33:54</td>\n",
              "      <td>4.0</td>\n",
              "      <td>15:33:54.png</td>\n",
              "    </tr>\n",
              "    <tr>\n",
              "      <th>14</th>\n",
              "      <td>1</td>\n",
              "      <td>15:33:58</td>\n",
              "      <td>2.0</td>\n",
              "      <td>15:33:58.png</td>\n",
              "    </tr>\n",
              "    <tr>\n",
              "      <th>15</th>\n",
              "      <td>1</td>\n",
              "      <td>15:34:01</td>\n",
              "      <td>2.0</td>\n",
              "      <td>15:34:01.png</td>\n",
              "    </tr>\n",
              "    <tr>\n",
              "      <th>16</th>\n",
              "      <td>1</td>\n",
              "      <td>15:34:05</td>\n",
              "      <td>5.0</td>\n",
              "      <td>15:34:05.png</td>\n",
              "    </tr>\n",
              "    <tr>\n",
              "      <th>17</th>\n",
              "      <td>1</td>\n",
              "      <td>15:34:09</td>\n",
              "      <td>2.0</td>\n",
              "      <td>15:34:09.png</td>\n",
              "    </tr>\n",
              "    <tr>\n",
              "      <th>18</th>\n",
              "      <td>1</td>\n",
              "      <td>15:34:13</td>\n",
              "      <td>2.0</td>\n",
              "      <td>15:34:13.png</td>\n",
              "    </tr>\n",
              "    <tr>\n",
              "      <th>19</th>\n",
              "      <td>1</td>\n",
              "      <td>15:34:17</td>\n",
              "      <td>4.2</td>\n",
              "      <td>15:34:17.png</td>\n",
              "    </tr>\n",
              "    <tr>\n",
              "      <th>20</th>\n",
              "      <td>1</td>\n",
              "      <td>15:34:22</td>\n",
              "      <td>2.0</td>\n",
              "      <td>15:34:22.png</td>\n",
              "    </tr>\n",
              "    <tr>\n",
              "      <th>21</th>\n",
              "      <td>1</td>\n",
              "      <td>15:34:26</td>\n",
              "      <td>2.0</td>\n",
              "      <td>15:34:26.png</td>\n",
              "    </tr>\n",
              "    <tr>\n",
              "      <th>22</th>\n",
              "      <td>1</td>\n",
              "      <td>15:34:29</td>\n",
              "      <td>1.0</td>\n",
              "      <td>15:34:29.png</td>\n",
              "    </tr>\n",
              "    <tr>\n",
              "      <th>23</th>\n",
              "      <td>1</td>\n",
              "      <td>15:34:33</td>\n",
              "      <td>1.0</td>\n",
              "      <td>15:34:33.png</td>\n",
              "    </tr>\n",
              "    <tr>\n",
              "      <th>24</th>\n",
              "      <td>1</td>\n",
              "      <td>15:34:37</td>\n",
              "      <td>1.0</td>\n",
              "      <td>15:34:37.png</td>\n",
              "    </tr>\n",
              "    <tr>\n",
              "      <th>25</th>\n",
              "      <td>1</td>\n",
              "      <td>15:34:42</td>\n",
              "      <td>2.0</td>\n",
              "      <td>15:34:42.png</td>\n",
              "    </tr>\n",
              "    <tr>\n",
              "      <th>26</th>\n",
              "      <td>1</td>\n",
              "      <td>15:34:46</td>\n",
              "      <td>1.0</td>\n",
              "      <td>15:34:46.png</td>\n",
              "    </tr>\n",
              "    <tr>\n",
              "      <th>27</th>\n",
              "      <td>1</td>\n",
              "      <td>15:34:50</td>\n",
              "      <td>1.0</td>\n",
              "      <td>15:34:50.png</td>\n",
              "    </tr>\n",
              "    <tr>\n",
              "      <th>28</th>\n",
              "      <td>1</td>\n",
              "      <td>15:34:54</td>\n",
              "      <td>5.0</td>\n",
              "      <td>15:34:54.png</td>\n",
              "    </tr>\n",
              "    <tr>\n",
              "      <th>29</th>\n",
              "      <td>1</td>\n",
              "      <td>15:34:58</td>\n",
              "      <td>5.0</td>\n",
              "      <td>15:34:58.png</td>\n",
              "    </tr>\n",
              "    <tr>\n",
              "      <th>30</th>\n",
              "      <td>1</td>\n",
              "      <td>15:35:02</td>\n",
              "      <td>4.2</td>\n",
              "      <td>15:35:02.png</td>\n",
              "    </tr>\n",
              "    <tr>\n",
              "      <th>31</th>\n",
              "      <td>1</td>\n",
              "      <td>15:35:07</td>\n",
              "      <td>4.2</td>\n",
              "      <td>15:35:07.png</td>\n",
              "    </tr>\n",
              "    <tr>\n",
              "      <th>32</th>\n",
              "      <td>1</td>\n",
              "      <td>15:35:11</td>\n",
              "      <td>4.2</td>\n",
              "      <td>15:35:11.png</td>\n",
              "    </tr>\n",
              "    <tr>\n",
              "      <th>33</th>\n",
              "      <td>1</td>\n",
              "      <td>15:35:16</td>\n",
              "      <td>4.2</td>\n",
              "      <td>15:35:16.png</td>\n",
              "    </tr>\n",
              "    <tr>\n",
              "      <th>34</th>\n",
              "      <td>1</td>\n",
              "      <td>15:35:20</td>\n",
              "      <td>4.2</td>\n",
              "      <td>15:35:20.png</td>\n",
              "    </tr>\n",
              "    <tr>\n",
              "      <th>35</th>\n",
              "      <td>1</td>\n",
              "      <td>15:35:26</td>\n",
              "      <td>2.0</td>\n",
              "      <td>15:35:26.png</td>\n",
              "    </tr>\n",
              "    <tr>\n",
              "      <th>36</th>\n",
              "      <td>1</td>\n",
              "      <td>15:35:30</td>\n",
              "      <td>4.2</td>\n",
              "      <td>15:35:30.png</td>\n",
              "    </tr>\n",
              "    <tr>\n",
              "      <th>37</th>\n",
              "      <td>1</td>\n",
              "      <td>15:35:34</td>\n",
              "      <td>2.0</td>\n",
              "      <td>15:35:34.png</td>\n",
              "    </tr>\n",
              "    <tr>\n",
              "      <th>38</th>\n",
              "      <td>1</td>\n",
              "      <td>15:35:38</td>\n",
              "      <td>4.2</td>\n",
              "      <td>15:35:38.png</td>\n",
              "    </tr>\n",
              "    <tr>\n",
              "      <th>39</th>\n",
              "      <td>1</td>\n",
              "      <td>15:35:43</td>\n",
              "      <td>4.2</td>\n",
              "      <td>15:35:43.png</td>\n",
              "    </tr>\n",
              "    <tr>\n",
              "      <th>40</th>\n",
              "      <td>1</td>\n",
              "      <td>15:35:47</td>\n",
              "      <td>1.0</td>\n",
              "      <td>15:35:47.png</td>\n",
              "    </tr>\n",
              "    <tr>\n",
              "      <th>41</th>\n",
              "      <td>1</td>\n",
              "      <td>15:35:52</td>\n",
              "      <td>1.0</td>\n",
              "      <td>15:35:52.png</td>\n",
              "    </tr>\n",
              "    <tr>\n",
              "      <th>42</th>\n",
              "      <td>1</td>\n",
              "      <td>15:35:56</td>\n",
              "      <td>2.0</td>\n",
              "      <td>15:35:56.png</td>\n",
              "    </tr>\n",
              "    <tr>\n",
              "      <th>43</th>\n",
              "      <td>1</td>\n",
              "      <td>15:36:00</td>\n",
              "      <td>2.0</td>\n",
              "      <td>15:36:00.png</td>\n",
              "    </tr>\n",
              "    <tr>\n",
              "      <th>44</th>\n",
              "      <td>1</td>\n",
              "      <td>15:36:04</td>\n",
              "      <td>4.2</td>\n",
              "      <td>15:36:04.png</td>\n",
              "    </tr>\n",
              "    <tr>\n",
              "      <th>45</th>\n",
              "      <td>1</td>\n",
              "      <td>15:36:08</td>\n",
              "      <td>4.2</td>\n",
              "      <td>15:36:08.png</td>\n",
              "    </tr>\n",
              "    <tr>\n",
              "      <th>46</th>\n",
              "      <td>1</td>\n",
              "      <td>15:36:12</td>\n",
              "      <td>4.2</td>\n",
              "      <td>15:36:12.png</td>\n",
              "    </tr>\n",
              "    <tr>\n",
              "      <th>47</th>\n",
              "      <td>1</td>\n",
              "      <td>15:36:16</td>\n",
              "      <td>2.0</td>\n",
              "      <td>15:36:16.png</td>\n",
              "    </tr>\n",
              "    <tr>\n",
              "      <th>48</th>\n",
              "      <td>1</td>\n",
              "      <td>15:36:21</td>\n",
              "      <td>4.2</td>\n",
              "      <td>15:36:21.png</td>\n",
              "    </tr>\n",
              "  </tbody>\n",
              "</table>\n",
              "</div>"
            ],
            "text/plain": [
              "   Customers ID      Time  Emotion      FileName\n",
              "0             1  15:33:03      4.2  15:33:03.png\n",
              "1             1  15:33:07      2.0  15:33:07.png\n",
              "2             1  15:33:11      5.0  15:33:11.png\n",
              "3             1  15:33:15      5.0  15:33:15.png\n",
              "4             1  15:33:19      4.2  15:33:19.png\n",
              "5             1  15:33:22      5.0  15:33:22.png\n",
              "6             1  15:33:26      4.2  15:33:26.png\n",
              "7             1  15:33:30      5.0  15:33:30.png\n",
              "8             1  15:33:34      5.0  15:33:34.png\n",
              "9             1  15:33:37      2.0  15:33:37.png\n",
              "10            1  15:33:42      4.0  15:33:42.png\n",
              "11            1  15:33:46      4.0  15:33:46.png\n",
              "12            1  15:33:50      4.0  15:33:50.png\n",
              "13            1  15:33:54      4.0  15:33:54.png\n",
              "14            1  15:33:58      2.0  15:33:58.png\n",
              "15            1  15:34:01      2.0  15:34:01.png\n",
              "16            1  15:34:05      5.0  15:34:05.png\n",
              "17            1  15:34:09      2.0  15:34:09.png\n",
              "18            1  15:34:13      2.0  15:34:13.png\n",
              "19            1  15:34:17      4.2  15:34:17.png\n",
              "20            1  15:34:22      2.0  15:34:22.png\n",
              "21            1  15:34:26      2.0  15:34:26.png\n",
              "22            1  15:34:29      1.0  15:34:29.png\n",
              "23            1  15:34:33      1.0  15:34:33.png\n",
              "24            1  15:34:37      1.0  15:34:37.png\n",
              "25            1  15:34:42      2.0  15:34:42.png\n",
              "26            1  15:34:46      1.0  15:34:46.png\n",
              "27            1  15:34:50      1.0  15:34:50.png\n",
              "28            1  15:34:54      5.0  15:34:54.png\n",
              "29            1  15:34:58      5.0  15:34:58.png\n",
              "30            1  15:35:02      4.2  15:35:02.png\n",
              "31            1  15:35:07      4.2  15:35:07.png\n",
              "32            1  15:35:11      4.2  15:35:11.png\n",
              "33            1  15:35:16      4.2  15:35:16.png\n",
              "34            1  15:35:20      4.2  15:35:20.png\n",
              "35            1  15:35:26      2.0  15:35:26.png\n",
              "36            1  15:35:30      4.2  15:35:30.png\n",
              "37            1  15:35:34      2.0  15:35:34.png\n",
              "38            1  15:35:38      4.2  15:35:38.png\n",
              "39            1  15:35:43      4.2  15:35:43.png\n",
              "40            1  15:35:47      1.0  15:35:47.png\n",
              "41            1  15:35:52      1.0  15:35:52.png\n",
              "42            1  15:35:56      2.0  15:35:56.png\n",
              "43            1  15:36:00      2.0  15:36:00.png\n",
              "44            1  15:36:04      4.2  15:36:04.png\n",
              "45            1  15:36:08      4.2  15:36:08.png\n",
              "46            1  15:36:12      4.2  15:36:12.png\n",
              "47            1  15:36:16      2.0  15:36:16.png\n",
              "48            1  15:36:21      4.2  15:36:21.png"
            ]
          },
          "metadata": {
            "tags": []
          }
        },
        {
          "output_type": "display_data",
          "data": {
            "application/vnd.google.colaboratory.intrinsic+json": {
              "type": "string"
            },
            "text/plain": [
              "'slope is -0.01987755102040816'"
            ]
          },
          "metadata": {
            "tags": []
          }
        },
        {
          "output_type": "display_data",
          "data": {
            "image/png": "[encoded data removed]",
            "text/plain": [
              "<Figure size 432x288 with 1 Axes>"
            ]
          },
          "metadata": {
            "tags": [],
            "needs_background": "light"
          }
        }
      ]
    }
  ]
}